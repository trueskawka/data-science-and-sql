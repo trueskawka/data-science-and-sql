{
 "cells": [
  {
   "cell_type": "markdown",
   "id": "b59d3431-10e9-4081-8c87-4c4726f98d22",
   "metadata": {},
   "source": [
    "# Intro to Data Science and SQL\n",
    "\n",
    "data source: [ravelry.com](https://www.ravelry.com/)\n",
    "\n",
    "data: info on 3000 patterns for hats, sweaters, and hand accessories"
   ]
  },
  {
   "cell_type": "markdown",
   "id": "47e49118",
   "metadata": {},
   "source": [
    "# Setup\n",
    "- enabling extensions\n",
    "- importing needed libraries\n",
    "- creating the database from the files\n",
    "- establishing a connection"
   ]
  },
  {
   "cell_type": "code",
   "execution_count": 1,
   "id": "c765a1ab",
   "metadata": {},
   "outputs": [],
   "source": [
    "%load_ext sql\n",
    "import sqlite3\n",
    "import pandas as pd"
   ]
  },
  {
   "cell_type": "code",
   "execution_count": 2,
   "id": "6bac6cb2",
   "metadata": {
    "executionTime": 988,
    "id": "bA5ajAmk7XH6",
    "lastSuccessfullyExecutedCode": "import sqlite3\nimport pandas as pd\n\n# create db\nconn = sqlite3.connect(\"yarn.db\")\n\n# import the data files to db\nsweater_data = pd.read_csv(\"sweaters\")\n\nsweater_data.to_sql(\n    \"sweaters\",\n    conn,\n    if_exists=\"replace\"\n)\n\nhat_data = pd.read_csv(\"hats\")\n\nhat_data.to_sql(\n    \"hats\",\n    conn,\n    if_exists=\"replace\"\n)\n\nhand_data = pd.read_csv(\"hands\")\n\nhand_data.to_sql(\n    \"hands\",\n    conn,\n    if_exists=\"replace\"\n)\n\n# connect to the db\n%sql sqlite:///yarn.db"
   },
   "outputs": [],
   "source": [
    "# create db\n",
    "conn = sqlite3.connect(\"yarn.db\")\n",
    "\n",
    "# import the data files to db\n",
    "sweater_data = pd.read_csv(\"sweaters\")\n",
    "sweater_data.to_sql(\n",
    "    \"patterns\",\n",
    "    conn,\n",
    "    if_exists=\"replace\"\n",
    ")\n",
    "\n",
    "hat_data = pd.read_csv(\"hats\")\n",
    "hat_data.to_sql(\n",
    "    \"patterns\",\n",
    "    conn,\n",
    "    if_exists=\"append\"\n",
    ")\n",
    "\n",
    "hand_data = pd.read_csv(\"hands\")\n",
    "hand_data.to_sql(\n",
    "    \"patterns\",\n",
    "    conn,\n",
    "    if_exists=\"append\"\n",
    ")\n",
    "\n",
    "# connect to db to use SQL directly\n",
    "%sql sqlite:///yarn.db"
   ]
  },
  {
   "cell_type": "markdown",
   "id": "cfbb7c92",
   "metadata": {},
   "source": [
    "# Intro to SQL"
   ]
  },
  {
   "cell_type": "markdown",
   "id": "5e4d1761",
   "metadata": {},
   "source": [
    "## Database structure\n",
    "- we have three data tables: `sweaters`, `hats`, and `hands`\n",
    "- each of those tables has 10 columns"
   ]
  },
  {
   "cell_type": "code",
   "execution_count": 3,
   "id": "ca45f653",
   "metadata": {},
   "outputs": [
    {
     "name": "stdout",
     "output_type": "stream",
     "text": [
      " * sqlite:///yarn.db\n",
      "Done.\n"
     ]
    },
    {
     "data": {
      "text/html": [
       "<table>\n",
       "    <tr>\n",
       "        <th>schema</th>\n",
       "        <th>name</th>\n",
       "        <th>type</th>\n",
       "        <th>ncol</th>\n",
       "        <th>wr</th>\n",
       "        <th>strict</th>\n",
       "    </tr>\n",
       "    <tr>\n",
       "        <td>main</td>\n",
       "        <td>patterns</td>\n",
       "        <td>table</td>\n",
       "        <td>10</td>\n",
       "        <td>0</td>\n",
       "        <td>0</td>\n",
       "    </tr>\n",
       "    <tr>\n",
       "        <td>main</td>\n",
       "        <td>sqlite_schema</td>\n",
       "        <td>table</td>\n",
       "        <td>5</td>\n",
       "        <td>0</td>\n",
       "        <td>0</td>\n",
       "    </tr>\n",
       "    <tr>\n",
       "        <td>temp</td>\n",
       "        <td>sqlite_temp_schema</td>\n",
       "        <td>table</td>\n",
       "        <td>5</td>\n",
       "        <td>0</td>\n",
       "        <td>0</td>\n",
       "    </tr>\n",
       "</table>"
      ],
      "text/plain": [
       "[('main', 'patterns', 'table', 10, 0, 0),\n",
       " ('main', 'sqlite_schema', 'table', 5, 0, 0),\n",
       " ('temp', 'sqlite_temp_schema', 'table', 5, 0, 0)]"
      ]
     },
     "execution_count": 3,
     "metadata": {},
     "output_type": "execute_result"
    }
   ],
   "source": [
    "# PRAGMA is a way to query non-table data in sqlite\n",
    "# these kinds of commands differ between database solutions\n",
    "\n",
    "# check table list\n",
    "%sql PRAGMA table_list;"
   ]
  },
  {
   "cell_type": "code",
   "execution_count": 4,
   "id": "8fb02ace",
   "metadata": {},
   "outputs": [
    {
     "name": "stdout",
     "output_type": "stream",
     "text": [
      " * sqlite:///yarn.db\n",
      "Done.\n"
     ]
    },
    {
     "data": {
      "text/html": [
       "<table>\n",
       "    <tr>\n",
       "        <th>cid</th>\n",
       "        <th>name</th>\n",
       "        <th>type</th>\n",
       "        <th>notnull</th>\n",
       "        <th>dflt_value</th>\n",
       "        <th>pk</th>\n",
       "    </tr>\n",
       "    <tr>\n",
       "        <td>0</td>\n",
       "        <td>index</td>\n",
       "        <td>INTEGER</td>\n",
       "        <td>0</td>\n",
       "        <td>None</td>\n",
       "        <td>0</td>\n",
       "    </tr>\n",
       "    <tr>\n",
       "        <td>1</td>\n",
       "        <td>Name</td>\n",
       "        <td>TEXT</td>\n",
       "        <td>0</td>\n",
       "        <td>None</td>\n",
       "        <td>0</td>\n",
       "    </tr>\n",
       "    <tr>\n",
       "        <td>2</td>\n",
       "        <td>Parent_category</td>\n",
       "        <td>TEXT</td>\n",
       "        <td>0</td>\n",
       "        <td>None</td>\n",
       "        <td>0</td>\n",
       "    </tr>\n",
       "    <tr>\n",
       "        <td>3</td>\n",
       "        <td>Craft</td>\n",
       "        <td>TEXT</td>\n",
       "        <td>0</td>\n",
       "        <td>None</td>\n",
       "        <td>0</td>\n",
       "    </tr>\n",
       "    <tr>\n",
       "        <td>4</td>\n",
       "        <td>Yarn_weight</td>\n",
       "        <td>TEXT</td>\n",
       "        <td>0</td>\n",
       "        <td>None</td>\n",
       "        <td>0</td>\n",
       "    </tr>\n",
       "    <tr>\n",
       "        <td>5</td>\n",
       "        <td>Yardage</td>\n",
       "        <td>REAL</td>\n",
       "        <td>0</td>\n",
       "        <td>None</td>\n",
       "        <td>0</td>\n",
       "    </tr>\n",
       "    <tr>\n",
       "        <td>6</td>\n",
       "        <td>Gauge</td>\n",
       "        <td>REAL</td>\n",
       "        <td>0</td>\n",
       "        <td>None</td>\n",
       "        <td>0</td>\n",
       "    </tr>\n",
       "    <tr>\n",
       "        <td>7</td>\n",
       "        <td>Price</td>\n",
       "        <td>REAL</td>\n",
       "        <td>0</td>\n",
       "        <td>None</td>\n",
       "        <td>0</td>\n",
       "    </tr>\n",
       "    <tr>\n",
       "        <td>8</td>\n",
       "        <td>Currency</td>\n",
       "        <td>TEXT</td>\n",
       "        <td>0</td>\n",
       "        <td>None</td>\n",
       "        <td>0</td>\n",
       "    </tr>\n",
       "    <tr>\n",
       "        <td>9</td>\n",
       "        <td>Parent_category_id</td>\n",
       "        <td>INTEGER</td>\n",
       "        <td>0</td>\n",
       "        <td>None</td>\n",
       "        <td>0</td>\n",
       "    </tr>\n",
       "</table>"
      ],
      "text/plain": [
       "[(0, 'index', 'INTEGER', 0, None, 0),\n",
       " (1, 'Name', 'TEXT', 0, None, 0),\n",
       " (2, 'Parent_category', 'TEXT', 0, None, 0),\n",
       " (3, 'Craft', 'TEXT', 0, None, 0),\n",
       " (4, 'Yarn_weight', 'TEXT', 0, None, 0),\n",
       " (5, 'Yardage', 'REAL', 0, None, 0),\n",
       " (6, 'Gauge', 'REAL', 0, None, 0),\n",
       " (7, 'Price', 'REAL', 0, None, 0),\n",
       " (8, 'Currency', 'TEXT', 0, None, 0),\n",
       " (9, 'Parent_category_id', 'INTEGER', 0, None, 0)]"
      ]
     },
     "execution_count": 4,
     "metadata": {},
     "output_type": "execute_result"
    }
   ],
   "source": [
    "# check a data table schema\n",
    "%sql PRAGMA table_info(patterns);"
   ]
  },
  {
   "cell_type": "markdown",
   "id": "0e5867d6",
   "metadata": {},
   "source": [
    "## Exploring data with SQL\n",
    "### SELECTing data"
   ]
  },
  {
   "cell_type": "code",
   "execution_count": null,
   "id": "77728c3f",
   "metadata": {},
   "outputs": [
    {
     "name": "stdout",
     "output_type": "stream",
     "text": [
      " * sqlite:///yarn.db\n",
      "Done.\n"
     ]
    }
   ],
   "source": [
    "# getting all the data from a table\n",
    "# this is too much data to display in the notebook\n",
    "%sql SELECT * FROM patterns;"
   ]
  },
  {
   "cell_type": "code",
   "execution_count": 7,
   "id": "667d0d4d-2a23-4c5e-8445-a33ffc3f7d98",
   "metadata": {
    "executionTime": 66,
    "lastSuccessfullyExecutedCode": "%sql SELECT * from sweaters LIMIT 5;"
   },
   "outputs": [
    {
     "name": "stdout",
     "output_type": "stream",
     "text": [
      " * sqlite:///yarn.db\n",
      "Done.\n"
     ]
    },
    {
     "data": {
      "text/html": [
       "<table>\n",
       "    <tr>\n",
       "        <th>index</th>\n",
       "        <th>Name</th>\n",
       "        <th>Parent_category</th>\n",
       "        <th>Craft</th>\n",
       "        <th>Yarn_weight</th>\n",
       "        <th>Yardage</th>\n",
       "        <th>Gauge</th>\n",
       "        <th>Price</th>\n",
       "        <th>Currency</th>\n",
       "        <th>Parent_category_id</th>\n",
       "    </tr>\n",
       "    <tr>\n",
       "        <td>0</td>\n",
       "        <td>The Basketweaver Sweater</td>\n",
       "        <td>Sweater</td>\n",
       "        <td>Knitting</td>\n",
       "        <td>DK</td>\n",
       "        <td>900.0</td>\n",
       "        <td>20.0</td>\n",
       "        <td>6.0</td>\n",
       "        <td>EUR</td>\n",
       "        <td>319</td>\n",
       "    </tr>\n",
       "    <tr>\n",
       "        <td>1</td>\n",
       "        <td>smoking</td>\n",
       "        <td>Sweater</td>\n",
       "        <td>Knitting</td>\n",
       "        <td>DK</td>\n",
       "        <td>1170.0</td>\n",
       "        <td>21.0</td>\n",
       "        <td>6.7</td>\n",
       "        <td>EUR</td>\n",
       "        <td>319</td>\n",
       "    </tr>\n",
       "    <tr>\n",
       "        <td>2</td>\n",
       "        <td>Carlisle (Saddle)</td>\n",
       "        <td>Sweater</td>\n",
       "        <td>Knitting</td>\n",
       "        <td>Fingering</td>\n",
       "        <td>1340.0</td>\n",
       "        <td>25.0</td>\n",
       "        <td>7.0</td>\n",
       "        <td>USD</td>\n",
       "        <td>319</td>\n",
       "    </tr>\n",
       "    <tr>\n",
       "        <td>3</td>\n",
       "        <td>Carlisle (Raglan)</td>\n",
       "        <td>Sweater</td>\n",
       "        <td>Knitting</td>\n",
       "        <td>Fingering</td>\n",
       "        <td>1340.0</td>\n",
       "        <td>25.0</td>\n",
       "        <td>7.0</td>\n",
       "        <td>USD</td>\n",
       "        <td>319</td>\n",
       "    </tr>\n",
       "    <tr>\n",
       "        <td>4</td>\n",
       "        <td>Bohemian Scrapsody</td>\n",
       "        <td>Sweater</td>\n",
       "        <td>Knitting</td>\n",
       "        <td>Aran</td>\n",
       "        <td>1121.0</td>\n",
       "        <td>14.0</td>\n",
       "        <td>9.0</td>\n",
       "        <td>CAD</td>\n",
       "        <td>319</td>\n",
       "    </tr>\n",
       "</table>"
      ],
      "text/plain": [
       "[(0, 'The Basketweaver Sweater', 'Sweater', 'Knitting', 'DK', 900.0, 20.0, 6.0, 'EUR', 319),\n",
       " (1, 'smoking', 'Sweater', 'Knitting', 'DK', 1170.0, 21.0, 6.7, 'EUR', 319),\n",
       " (2, 'Carlisle (Saddle)', 'Sweater', 'Knitting', 'Fingering', 1340.0, 25.0, 7.0, 'USD', 319),\n",
       " (3, 'Carlisle (Raglan)', 'Sweater', 'Knitting', 'Fingering', 1340.0, 25.0, 7.0, 'USD', 319),\n",
       " (4, 'Bohemian Scrapsody', 'Sweater', 'Knitting', 'Aran', 1121.0, 14.0, 9.0, 'CAD', 319)]"
      ]
     },
     "execution_count": 7,
     "metadata": {},
     "output_type": "execute_result"
    }
   ],
   "source": [
    "# limiting the number of results\n",
    "%sql SELECT * FROM patterns LIMIT 5;"
   ]
  },
  {
   "cell_type": "code",
   "execution_count": 8,
   "id": "44ab1efd",
   "metadata": {},
   "outputs": [
    {
     "name": "stdout",
     "output_type": "stream",
     "text": [
      " * sqlite:///yarn.db\n",
      "Done.\n"
     ]
    },
    {
     "data": {
      "text/html": [
       "<table>\n",
       "    <tr>\n",
       "        <th>Name</th>\n",
       "        <th>Craft</th>\n",
       "    </tr>\n",
       "    <tr>\n",
       "        <td>The Basketweaver Sweater</td>\n",
       "        <td>Knitting</td>\n",
       "    </tr>\n",
       "    <tr>\n",
       "        <td>smoking</td>\n",
       "        <td>Knitting</td>\n",
       "    </tr>\n",
       "    <tr>\n",
       "        <td>Carlisle (Saddle)</td>\n",
       "        <td>Knitting</td>\n",
       "    </tr>\n",
       "    <tr>\n",
       "        <td>Carlisle (Raglan)</td>\n",
       "        <td>Knitting</td>\n",
       "    </tr>\n",
       "    <tr>\n",
       "        <td>Bohemian Scrapsody</td>\n",
       "        <td>Knitting</td>\n",
       "    </tr>\n",
       "</table>"
      ],
      "text/plain": [
       "[('The Basketweaver Sweater', 'Knitting'),\n",
       " ('smoking', 'Knitting'),\n",
       " ('Carlisle (Saddle)', 'Knitting'),\n",
       " ('Carlisle (Raglan)', 'Knitting'),\n",
       " ('Bohemian Scrapsody', 'Knitting')]"
      ]
     },
     "execution_count": 8,
     "metadata": {},
     "output_type": "execute_result"
    }
   ],
   "source": [
    "# selecting specific columns\n",
    "%sql SELECT Name, Craft FROM patterns LIMIT 5;"
   ]
  },
  {
   "cell_type": "code",
   "execution_count": 9,
   "id": "02b02f21",
   "metadata": {},
   "outputs": [
    {
     "name": "stdout",
     "output_type": "stream",
     "text": [
      " * sqlite:///yarn.db\n",
      "Done.\n"
     ]
    },
    {
     "data": {
      "text/html": [
       "<table>\n",
       "    <tr>\n",
       "        <th>index</th>\n",
       "        <th>Name</th>\n",
       "        <th>Parent_category</th>\n",
       "        <th>Craft</th>\n",
       "        <th>Yarn_weight</th>\n",
       "        <th>Yardage</th>\n",
       "        <th>Gauge</th>\n",
       "        <th>Price</th>\n",
       "        <th>Currency</th>\n",
       "        <th>Parent_category_id</th>\n",
       "    </tr>\n",
       "    <tr>\n",
       "        <td>15</td>\n",
       "        <td>Button up Cable sweater</td>\n",
       "        <td>Sweater</td>\n",
       "        <td>Crochet</td>\n",
       "        <td>DK</td>\n",
       "        <td>547.0</td>\n",
       "        <td>17.0</td>\n",
       "        <td>4.99</td>\n",
       "        <td>USD</td>\n",
       "        <td>319</td>\n",
       "    </tr>\n",
       "    <tr>\n",
       "        <td>36</td>\n",
       "        <td>Dewdrops Cardigan</td>\n",
       "        <td>Sweater</td>\n",
       "        <td>Crochet</td>\n",
       "        <td>Worsted</td>\n",
       "        <td>328.0</td>\n",
       "        <td>8.0</td>\n",
       "        <td>5.5</td>\n",
       "        <td>USD</td>\n",
       "        <td>319</td>\n",
       "    </tr>\n",
       "    <tr>\n",
       "        <td>41</td>\n",
       "        <td>Virkattu PAITAMEKKO</td>\n",
       "        <td>Sweater</td>\n",
       "        <td>Crochet</td>\n",
       "        <td>Aran</td>\n",
       "        <td>1203.0</td>\n",
       "        <td>16.0</td>\n",
       "        <td>5.0</td>\n",
       "        <td>EUR</td>\n",
       "        <td>319</td>\n",
       "    </tr>\n",
       "    <tr>\n",
       "        <td>43</td>\n",
       "        <td>Whoopa CAL</td>\n",
       "        <td>Sweater</td>\n",
       "        <td>Crochet</td>\n",
       "        <td>Bulky</td>\n",
       "        <td>875.0</td>\n",
       "        <td>11.0</td>\n",
       "        <td>8.5</td>\n",
       "        <td>USD</td>\n",
       "        <td>319</td>\n",
       "    </tr>\n",
       "    <tr>\n",
       "        <td>53</td>\n",
       "        <td>Festive Scrap Yarn Sweater</td>\n",
       "        <td>Sweater</td>\n",
       "        <td>Crochet</td>\n",
       "        <td>Bulky</td>\n",
       "        <td>1200.0</td>\n",
       "        <td>3.5</td>\n",
       "        <td>None</td>\n",
       "        <td>None</td>\n",
       "        <td>319</td>\n",
       "    </tr>\n",
       "</table>"
      ],
      "text/plain": [
       "[(15, 'Button up Cable sweater', 'Sweater', 'Crochet', 'DK', 547.0, 17.0, 4.99, 'USD', 319),\n",
       " (36, 'Dewdrops Cardigan', 'Sweater', 'Crochet', 'Worsted', 328.0, 8.0, 5.5, 'USD', 319),\n",
       " (41, 'Virkattu PAITAMEKKO', 'Sweater', 'Crochet', 'Aran', 1203.0, 16.0, 5.0, 'EUR', 319),\n",
       " (43, 'Whoopa CAL', 'Sweater', 'Crochet', 'Bulky', 875.0, 11.0, 8.5, 'USD', 319),\n",
       " (53, 'Festive Scrap Yarn Sweater', 'Sweater', 'Crochet', 'Bulky', 1200.0, 3.5, None, None, 319)]"
      ]
     },
     "execution_count": 9,
     "metadata": {},
     "output_type": "execute_result"
    }
   ],
   "source": [
    "# selecting data that meets a specific condition\n",
    "%sql SELECT * FROM patterns WHERE Craft=\"Crochet\" LIMIT 5;"
   ]
  },
  {
   "cell_type": "code",
   "execution_count": 10,
   "id": "56551eb3",
   "metadata": {},
   "outputs": [
    {
     "name": "stdout",
     "output_type": "stream",
     "text": [
      " * sqlite:///yarn.db\n",
      "Done.\n"
     ]
    },
    {
     "data": {
      "text/html": [
       "<table>\n",
       "    <tr>\n",
       "        <th>index</th>\n",
       "        <th>Name</th>\n",
       "        <th>Parent_category</th>\n",
       "        <th>Craft</th>\n",
       "        <th>Yarn_weight</th>\n",
       "        <th>Yardage</th>\n",
       "        <th>Gauge</th>\n",
       "        <th>Price</th>\n",
       "        <th>Currency</th>\n",
       "        <th>Parent_category_id</th>\n",
       "    </tr>\n",
       "    <tr>\n",
       "        <td>15</td>\n",
       "        <td>Button up Cable sweater</td>\n",
       "        <td>Sweater</td>\n",
       "        <td>Crochet</td>\n",
       "        <td>DK</td>\n",
       "        <td>547.0</td>\n",
       "        <td>17.0</td>\n",
       "        <td>4.99</td>\n",
       "        <td>USD</td>\n",
       "        <td>319</td>\n",
       "    </tr>\n",
       "    <tr>\n",
       "        <td>77</td>\n",
       "        <td>Lightweight Cardigan</td>\n",
       "        <td>Sweater</td>\n",
       "        <td>Knitting</td>\n",
       "        <td>DK</td>\n",
       "        <td>273.0</td>\n",
       "        <td>22.0</td>\n",
       "        <td>4.0</td>\n",
       "        <td>USD</td>\n",
       "        <td>319</td>\n",
       "    </tr>\n",
       "    <tr>\n",
       "        <td>180</td>\n",
       "        <td>Cashmere Cardigan</td>\n",
       "        <td>Sweater</td>\n",
       "        <td>Crochet</td>\n",
       "        <td>DK</td>\n",
       "        <td>390.0</td>\n",
       "        <td>18.0</td>\n",
       "        <td>3.5</td>\n",
       "        <td>USD</td>\n",
       "        <td>319</td>\n",
       "    </tr>\n",
       "    <tr>\n",
       "        <td>309</td>\n",
       "        <td>Hitofude Cardigan</td>\n",
       "        <td>Sweater</td>\n",
       "        <td>Knitting</td>\n",
       "        <td>Fingering</td>\n",
       "        <td>730.0</td>\n",
       "        <td>20.0</td>\n",
       "        <td>2.0</td>\n",
       "        <td>USD</td>\n",
       "        <td>319</td>\n",
       "    </tr>\n",
       "    <tr>\n",
       "        <td>0</td>\n",
       "        <td>Hot Dish Hat</td>\n",
       "        <td>Hat</td>\n",
       "        <td>Knitting</td>\n",
       "        <td>Aran</td>\n",
       "        <td>300.0</td>\n",
       "        <td>18.0</td>\n",
       "        <td>4.0</td>\n",
       "        <td>USD</td>\n",
       "        <td>411</td>\n",
       "    </tr>\n",
       "</table>"
      ],
      "text/plain": [
       "[(15, 'Button up Cable sweater', 'Sweater', 'Crochet', 'DK', 547.0, 17.0, 4.99, 'USD', 319),\n",
       " (77, 'Lightweight Cardigan', 'Sweater', 'Knitting', 'DK', 273.0, 22.0, 4.0, 'USD', 319),\n",
       " (180, 'Cashmere Cardigan', 'Sweater', 'Crochet', 'DK', 390.0, 18.0, 3.5, 'USD', 319),\n",
       " (309, 'Hitofude Cardigan', 'Sweater', 'Knitting', 'Fingering', 730.0, 20.0, 2.0, 'USD', 319),\n",
       " (0, 'Hot Dish Hat', 'Hat', 'Knitting', 'Aran', 300.0, 18.0, 4.0, 'USD', 411)]"
      ]
     },
     "execution_count": 10,
     "metadata": {},
     "output_type": "execute_result"
    }
   ],
   "source": [
    "# selecting data that meets multiple conditions\n",
    "%sql SELECT * FROM patterns WHERE Price>1 AND PRICE <5 AND Currency=\"USD\" LIMIT 5;"
   ]
  },
  {
   "cell_type": "code",
   "execution_count": 11,
   "id": "c6581b34-6265-4552-abc8-d1838fd75016",
   "metadata": {
    "executionTime": 452,
    "lastSuccessfullyExecutedCode": "%sql SELECT DISTINCT Yarn_weight FROM hats;"
   },
   "outputs": [
    {
     "name": "stdout",
     "output_type": "stream",
     "text": [
      " * sqlite:///yarn.db\n",
      "Done.\n"
     ]
    },
    {
     "data": {
      "text/html": [
       "<table>\n",
       "    <tr>\n",
       "        <th>Yarn_weight</th>\n",
       "    </tr>\n",
       "    <tr>\n",
       "        <td>DK</td>\n",
       "    </tr>\n",
       "    <tr>\n",
       "        <td>Fingering</td>\n",
       "    </tr>\n",
       "    <tr>\n",
       "        <td>Aran</td>\n",
       "    </tr>\n",
       "    <tr>\n",
       "        <td>Sport</td>\n",
       "    </tr>\n",
       "    <tr>\n",
       "        <td>None</td>\n",
       "    </tr>\n",
       "    <tr>\n",
       "        <td>Worsted</td>\n",
       "    </tr>\n",
       "    <tr>\n",
       "        <td>Bulky</td>\n",
       "    </tr>\n",
       "    <tr>\n",
       "        <td>Lace</td>\n",
       "    </tr>\n",
       "    <tr>\n",
       "        <td>Super Bulky</td>\n",
       "    </tr>\n",
       "    <tr>\n",
       "        <td>Any gauge</td>\n",
       "    </tr>\n",
       "    <tr>\n",
       "        <td>Light Fingering</td>\n",
       "    </tr>\n",
       "    <tr>\n",
       "        <td>Cobweb</td>\n",
       "    </tr>\n",
       "    <tr>\n",
       "        <td>Jumbo</td>\n",
       "    </tr>\n",
       "    <tr>\n",
       "        <td>Aran / Worsted</td>\n",
       "    </tr>\n",
       "</table>"
      ],
      "text/plain": [
       "[('DK',),\n",
       " ('Fingering',),\n",
       " ('Aran',),\n",
       " ('Sport',),\n",
       " (None,),\n",
       " ('Worsted',),\n",
       " ('Bulky',),\n",
       " ('Lace',),\n",
       " ('Super Bulky',),\n",
       " ('Any gauge',),\n",
       " ('Light Fingering',),\n",
       " ('Cobweb',),\n",
       " ('Jumbo',),\n",
       " ('Aran / Worsted',)]"
      ]
     },
     "execution_count": 11,
     "metadata": {},
     "output_type": "execute_result"
    }
   ],
   "source": [
    "# selecting distinct values\n",
    "%sql SELECT DISTINCT Yarn_weight FROM patterns;"
   ]
  },
  {
   "cell_type": "markdown",
   "id": "5dbf7ef2",
   "metadata": {},
   "source": [
    "### Aggregate functions"
   ]
  },
  {
   "cell_type": "code",
   "execution_count": 12,
   "id": "ef9f90a1",
   "metadata": {},
   "outputs": [
    {
     "name": "stdout",
     "output_type": "stream",
     "text": [
      " * sqlite:///yarn.db\n",
      "Done.\n"
     ]
    },
    {
     "data": {
      "text/html": [
       "<table>\n",
       "    <tr>\n",
       "        <th>COUNT()</th>\n",
       "    </tr>\n",
       "    <tr>\n",
       "        <td>2828</td>\n",
       "    </tr>\n",
       "</table>"
      ],
      "text/plain": [
       "[(2828,)]"
      ]
     },
     "execution_count": 12,
     "metadata": {},
     "output_type": "execute_result"
    }
   ],
   "source": [
    "# count the number of rows that match a condition\n",
    "%sql SELECT COUNT() FROM patterns WHERE Craft=\"Knitting\";"
   ]
  },
  {
   "cell_type": "code",
   "execution_count": 13,
   "id": "3242cb21",
   "metadata": {},
   "outputs": [
    {
     "name": "stdout",
     "output_type": "stream",
     "text": [
      " * sqlite:///yarn.db\n",
      "Done.\n"
     ]
    },
    {
     "data": {
      "text/html": [
       "<table>\n",
       "    <tr>\n",
       "        <th>AVG(Yardage)</th>\n",
       "    </tr>\n",
       "    <tr>\n",
       "        <td>460.39073083778965</td>\n",
       "    </tr>\n",
       "</table>"
      ],
      "text/plain": [
       "[(460.39073083778965,)]"
      ]
     },
     "execution_count": 13,
     "metadata": {},
     "output_type": "execute_result"
    }
   ],
   "source": [
    "# calculate the average over a value\n",
    "%sql SELECT AVG(Yardage) FROM patterns;"
   ]
  },
  {
   "cell_type": "code",
   "execution_count": 14,
   "id": "e2c62da4",
   "metadata": {},
   "outputs": [
    {
     "name": "stdout",
     "output_type": "stream",
     "text": [
      " * sqlite:///yarn.db\n",
      "Done.\n"
     ]
    },
    {
     "data": {
      "text/html": [
       "<table>\n",
       "    <tr>\n",
       "        <th>Parent_category</th>\n",
       "        <th>COUNT()</th>\n",
       "    </tr>\n",
       "    <tr>\n",
       "        <td>Hands</td>\n",
       "        <td>996</td>\n",
       "    </tr>\n",
       "    <tr>\n",
       "        <td>Hat</td>\n",
       "        <td>975</td>\n",
       "    </tr>\n",
       "    <tr>\n",
       "        <td>Neck / Torso</td>\n",
       "        <td>21</td>\n",
       "    </tr>\n",
       "    <tr>\n",
       "        <td>Other Headwear</td>\n",
       "        <td>4</td>\n",
       "    </tr>\n",
       "    <tr>\n",
       "        <td>Sweater</td>\n",
       "        <td>1004</td>\n",
       "    </tr>\n",
       "</table>"
      ],
      "text/plain": [
       "[('Hands', 996),\n",
       " ('Hat', 975),\n",
       " ('Neck / Torso', 21),\n",
       " ('Other Headwear', 4),\n",
       " ('Sweater', 1004)]"
      ]
     },
     "execution_count": 14,
     "metadata": {},
     "output_type": "execute_result"
    }
   ],
   "source": [
    "# count group members\n",
    "%sql SELECT Parent_category, COUNT() FROM patterns GROUP BY Parent_category;"
   ]
  },
  {
   "cell_type": "code",
   "execution_count": 15,
   "id": "4d9cc704",
   "metadata": {},
   "outputs": [
    {
     "name": "stdout",
     "output_type": "stream",
     "text": [
      " * sqlite:///yarn.db\n",
      "Done.\n"
     ]
    },
    {
     "data": {
      "text/html": [
       "<table>\n",
       "    <tr>\n",
       "        <th>Parent_category</th>\n",
       "        <th>AVG(Yardage)</th>\n",
       "    </tr>\n",
       "    <tr>\n",
       "        <td>Hands</td>\n",
       "        <td>177.0056179775281</td>\n",
       "    </tr>\n",
       "    <tr>\n",
       "        <td>Hat</td>\n",
       "        <td>173.22378378378377</td>\n",
       "    </tr>\n",
       "    <tr>\n",
       "        <td>Neck / Torso</td>\n",
       "        <td>415.4736842105263</td>\n",
       "    </tr>\n",
       "    <tr>\n",
       "        <td>Other Headwear</td>\n",
       "        <td>120.25</td>\n",
       "    </tr>\n",
       "    <tr>\n",
       "        <td>Sweater</td>\n",
       "        <td>998.1944157187177</td>\n",
       "    </tr>\n",
       "</table>"
      ],
      "text/plain": [
       "[('Hands', 177.0056179775281),\n",
       " ('Hat', 173.22378378378377),\n",
       " ('Neck / Torso', 415.4736842105263),\n",
       " ('Other Headwear', 120.25),\n",
       " ('Sweater', 998.1944157187177)]"
      ]
     },
     "execution_count": 15,
     "metadata": {},
     "output_type": "execute_result"
    }
   ],
   "source": [
    "# average group members\n",
    "%sql SELECT Parent_category, AVG(Yardage) FROM patterns GROUP BY Parent_category;"
   ]
  },
  {
   "cell_type": "markdown",
   "id": "29c7cadd",
   "metadata": {},
   "source": [
    "# Exploratory data analysis\n",
    "\n",
    "## Distribution metrics"
   ]
  },
  {
   "cell_type": "code",
   "execution_count": null,
   "id": "d0dfbced",
   "metadata": {},
   "outputs": [],
   "source": []
  }
 ],
 "metadata": {
  "colab": {
   "name": "Welcome to DataCamp Workspaces.ipynb",
   "provenance": []
  },
  "editor": "DataCamp Workspace",
  "kernelspec": {
   "display_name": "Python 3 (ipykernel)",
   "language": "python",
   "name": "python3"
  },
  "language_info": {
   "codemirror_mode": {
    "name": "ipython",
    "version": 3
   },
   "file_extension": ".py",
   "mimetype": "text/x-python",
   "name": "python",
   "nbconvert_exporter": "python",
   "pygments_lexer": "ipython3",
   "version": "3.10.9"
  },
  "vscode": {
   "interpreter": {
    "hash": "1a1af0ee75eeea9e2e1ee996c87e7a2b11a0bebd85af04bb136d915cefc0abce"
   }
  }
 },
 "nbformat": 4,
 "nbformat_minor": 5
}
